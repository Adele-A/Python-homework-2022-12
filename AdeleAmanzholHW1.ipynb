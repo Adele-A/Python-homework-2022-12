{
 "cells": [
  {
   "cell_type": "code",
   "execution_count": 40,
   "id": "19dfe091",
   "metadata": {},
   "outputs": [
    {
     "name": "stdout",
     "output_type": "stream",
     "text": [
      "[65, 100, 101, 108, 101, 32, 65, 109, 97, 110, 122, 104, 111, 108]\n"
     ]
    }
   ],
   "source": [
    "# For testing\n",
    "string = \"Adele Amanzhol\" \n",
    "ascii_string = [ord(character) for character in string]\n",
    "print(ascii_string)"
   ]
  },
  {
   "cell_type": "code",
   "execution_count": 10,
   "id": "1245c2ae",
   "metadata": {},
   "outputs": [
    {
     "name": "stdout",
     "output_type": "stream",
     "text": [
      "Enter you name: \n",
      "Default string is: Adele Amanzhol\n",
      "0x88396785c0f70\n"
     ]
    }
   ],
   "source": [
    "import random \n",
    "\n",
    "# Function for calculating the product\n",
    "def product(a, b): \n",
    "    return a * b\n",
    "\n",
    "# Default string is my name, so that the string is not empty\n",
    "string = \"Adele Amanzhol\"\n",
    "input_string = input('Enter you name: ')\n",
    "if len(input_string) == 0: # if input_string is empty\n",
    "    input_string = string\n",
    "    print(\"Default string is:\", input_string)\n",
    "else:\n",
    "    string = input_string\n",
    "    print(\"You have entered:\", input_string)\n",
    "\n",
    "# Converting string to list of ascii code\n",
    "ascii_string = [ord(character) for character in string]\n",
    "\n",
    "# Initial result product is 1, because if we put 0, then all the result will be 0\n",
    "result_product = 1\n",
    "\n",
    "# Calculation of the product\n",
    "for i in range(0, len(ascii_string)):\n",
    "    result_product = product(result_product, int(ascii_string[i]))  \n",
    "    \n",
    "# Set a time constant seed\n",
    "time_constant_seed = 2 \n",
    "random.seed(time_constant_seed)\n",
    "# Get random number by seed with time constant\n",
    "random_M = random.randint(len(ascii_string), 2000000)\n",
    "\n",
    "# XOR result_product with random_M\n",
    "xor_num = result_product ^ random_M\n",
    "\n",
    "# Converting to hex notation\n",
    "hex_notation = hex(xor_num)\n",
    "\n",
    "# Trimming the result to 16 characters\n",
    "# We use 15, because the index of string starts from 0\n",
    "result = hex_notation[:15]\n",
    "\n",
    "\n",
    "print(result)\n"
   ]
  },
  {
   "cell_type": "code",
   "execution_count": null,
   "id": "9ab083f7",
   "metadata": {},
   "outputs": [],
   "source": []
  },
  {
   "cell_type": "code",
   "execution_count": null,
   "id": "8eb74472",
   "metadata": {},
   "outputs": [],
   "source": []
  }
 ],
 "metadata": {
  "kernelspec": {
   "display_name": "Python 3 (ipykernel)",
   "language": "python",
   "name": "python3"
  },
  "language_info": {
   "codemirror_mode": {
    "name": "ipython",
    "version": 3
   },
   "file_extension": ".py",
   "mimetype": "text/x-python",
   "name": "python",
   "nbconvert_exporter": "python",
   "pygments_lexer": "ipython3",
   "version": "3.10.7"
  }
 },
 "nbformat": 4,
 "nbformat_minor": 5
}
